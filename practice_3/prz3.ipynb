{
 "cells": [
  {
   "cell_type": "code",
   "execution_count": 1,
   "id": "29e2dbcb15b2d07f",
   "metadata": {
    "ExecuteTime": {
     "end_time": "2023-11-01T17:24:31.104183Z",
     "start_time": "2023-11-01T17:24:29.304525400Z"
    },
    "collapsed": false
   },
   "outputs": [
    {
     "name": "stdout",
     "output_type": "stream",
     "text": [
      "Requirement already satisfied: numpy in /opt/conda/lib/python3.11/site-packages (1.26.1)\r\n",
      "Requirement already satisfied: tensorflow in /opt/conda/lib/python3.11/site-packages (2.14.0)\r\n",
      "Requirement already satisfied: adversarial-robustness-toolbox in /opt/conda/lib/python3.11/site-packages (1.16.0)\r\n",
      "Requirement already satisfied: absl-py>=1.0.0 in /opt/conda/lib/python3.11/site-packages (from tensorflow) (2.0.0)\r\n",
      "Requirement already satisfied: astunparse>=1.6.0 in /opt/conda/lib/python3.11/site-packages (from tensorflow) (1.6.3)\r\n",
      "Requirement already satisfied: flatbuffers>=23.5.26 in /opt/conda/lib/python3.11/site-packages (from tensorflow) (23.5.26)\r\n",
      "Requirement already satisfied: gast!=0.5.0,!=0.5.1,!=0.5.2,>=0.2.1 in /opt/conda/lib/python3.11/site-packages (from tensorflow) (0.5.4)\r\n",
      "Requirement already satisfied: google-pasta>=0.1.1 in /opt/conda/lib/python3.11/site-packages (from tensorflow) (0.2.0)\r\n",
      "Requirement already satisfied: h5py>=2.9.0 in /opt/conda/lib/python3.11/site-packages (from tensorflow) (3.10.0)\r\n",
      "Requirement already satisfied: libclang>=13.0.0 in /opt/conda/lib/python3.11/site-packages (from tensorflow) (16.0.6)\r\n",
      "Requirement already satisfied: ml-dtypes==0.2.0 in /opt/conda/lib/python3.11/site-packages (from tensorflow) (0.2.0)\r\n",
      "Requirement already satisfied: opt-einsum>=2.3.2 in /opt/conda/lib/python3.11/site-packages (from tensorflow) (3.3.0)\r\n",
      "Requirement already satisfied: packaging in /opt/conda/lib/python3.11/site-packages (from tensorflow) (23.2)\r\n",
      "Requirement already satisfied: protobuf!=4.21.0,!=4.21.1,!=4.21.2,!=4.21.3,!=4.21.4,!=4.21.5,<5.0.0dev,>=3.20.3 in /opt/conda/lib/python3.11/site-packages (from tensorflow) (4.24.4)\r\n",
      "Requirement already satisfied: setuptools in /opt/conda/lib/python3.11/site-packages (from tensorflow) (68.2.2)\r\n",
      "Requirement already satisfied: six>=1.12.0 in /opt/conda/lib/python3.11/site-packages (from tensorflow) (1.16.0)\r\n",
      "Requirement already satisfied: termcolor>=1.1.0 in /opt/conda/lib/python3.11/site-packages (from tensorflow) (2.3.0)\r\n",
      "Requirement already satisfied: typing-extensions>=3.6.6 in /opt/conda/lib/python3.11/site-packages (from tensorflow) (4.8.0)\r\n",
      "Requirement already satisfied: wrapt<1.15,>=1.11.0 in /opt/conda/lib/python3.11/site-packages (from tensorflow) (1.14.1)\r\n",
      "Requirement already satisfied: tensorflow-io-gcs-filesystem>=0.23.1 in /opt/conda/lib/python3.11/site-packages (from tensorflow) (0.34.0)\r\n",
      "Requirement already satisfied: grpcio<2.0,>=1.24.3 in /opt/conda/lib/python3.11/site-packages (from tensorflow) (1.59.2)\r\n",
      "Requirement already satisfied: tensorboard<2.15,>=2.14 in /opt/conda/lib/python3.11/site-packages (from tensorflow) (2.14.1)\r\n",
      "Requirement already satisfied: tensorflow-estimator<2.15,>=2.14.0 in /opt/conda/lib/python3.11/site-packages (from tensorflow) (2.14.0)\r\n",
      "Requirement already satisfied: keras<2.15,>=2.14.0 in /opt/conda/lib/python3.11/site-packages (from tensorflow) (2.14.0)\r\n",
      "Requirement already satisfied: scipy>=1.4.1 in /opt/conda/lib/python3.11/site-packages (from adversarial-robustness-toolbox) (1.11.3)\r\n",
      "Requirement already satisfied: scikit-learn<1.2.0,>=0.22.2 in /opt/conda/lib/python3.11/site-packages (from adversarial-robustness-toolbox) (1.1.3)\r\n",
      "Requirement already satisfied: tqdm in /opt/conda/lib/python3.11/site-packages (from adversarial-robustness-toolbox) (4.66.1)\r\n",
      "Requirement already satisfied: wheel<1.0,>=0.23.0 in /opt/conda/lib/python3.11/site-packages (from astunparse>=1.6.0->tensorflow) (0.41.2)\r\n",
      "Requirement already satisfied: joblib>=1.0.0 in /opt/conda/lib/python3.11/site-packages (from scikit-learn<1.2.0,>=0.22.2->adversarial-robustness-toolbox) (1.3.2)\r\n",
      "Requirement already satisfied: threadpoolctl>=2.0.0 in /opt/conda/lib/python3.11/site-packages (from scikit-learn<1.2.0,>=0.22.2->adversarial-robustness-toolbox) (3.2.0)\r\n",
      "Requirement already satisfied: google-auth<3,>=1.6.3 in /opt/conda/lib/python3.11/site-packages (from tensorboard<2.15,>=2.14->tensorflow) (2.23.4)\r\n",
      "Requirement already satisfied: google-auth-oauthlib<1.1,>=0.5 in /opt/conda/lib/python3.11/site-packages (from tensorboard<2.15,>=2.14->tensorflow) (1.0.0)\r\n",
      "Requirement already satisfied: markdown>=2.6.8 in /opt/conda/lib/python3.11/site-packages (from tensorboard<2.15,>=2.14->tensorflow) (3.5.1)\r\n",
      "Requirement already satisfied: requests<3,>=2.21.0 in /opt/conda/lib/python3.11/site-packages (from tensorboard<2.15,>=2.14->tensorflow) (2.31.0)\r\n",
      "Requirement already satisfied: tensorboard-data-server<0.8.0,>=0.7.0 in /opt/conda/lib/python3.11/site-packages (from tensorboard<2.15,>=2.14->tensorflow) (0.7.2)\r\n",
      "Requirement already satisfied: werkzeug>=1.0.1 in /opt/conda/lib/python3.11/site-packages (from tensorboard<2.15,>=2.14->tensorflow) (3.0.1)\r\n",
      "Requirement already satisfied: cachetools<6.0,>=2.0.0 in /opt/conda/lib/python3.11/site-packages (from google-auth<3,>=1.6.3->tensorboard<2.15,>=2.14->tensorflow) (5.3.2)\r\n",
      "Requirement already satisfied: pyasn1-modules>=0.2.1 in /opt/conda/lib/python3.11/site-packages (from google-auth<3,>=1.6.3->tensorboard<2.15,>=2.14->tensorflow) (0.3.0)\r\n",
      "Requirement already satisfied: rsa<5,>=3.1.4 in /opt/conda/lib/python3.11/site-packages (from google-auth<3,>=1.6.3->tensorboard<2.15,>=2.14->tensorflow) (4.9)\r\n",
      "Requirement already satisfied: requests-oauthlib>=0.7.0 in /opt/conda/lib/python3.11/site-packages (from google-auth-oauthlib<1.1,>=0.5->tensorboard<2.15,>=2.14->tensorflow) (1.3.1)\r\n",
      "Requirement already satisfied: charset-normalizer<4,>=2 in /opt/conda/lib/python3.11/site-packages (from requests<3,>=2.21.0->tensorboard<2.15,>=2.14->tensorflow) (3.3.0)\r\n",
      "Requirement already satisfied: idna<4,>=2.5 in /opt/conda/lib/python3.11/site-packages (from requests<3,>=2.21.0->tensorboard<2.15,>=2.14->tensorflow) (3.4)\r\n",
      "Requirement already satisfied: urllib3<3,>=1.21.1 in /opt/conda/lib/python3.11/site-packages (from requests<3,>=2.21.0->tensorboard<2.15,>=2.14->tensorflow) (2.0.6)\r\n",
      "Requirement already satisfied: certifi>=2017.4.17 in /opt/conda/lib/python3.11/site-packages (from requests<3,>=2.21.0->tensorboard<2.15,>=2.14->tensorflow) (2023.7.22)\r\n",
      "Requirement already satisfied: MarkupSafe>=2.1.1 in /opt/conda/lib/python3.11/site-packages (from werkzeug>=1.0.1->tensorboard<2.15,>=2.14->tensorflow) (2.1.3)\r\n",
      "Requirement already satisfied: pyasn1<0.6.0,>=0.4.6 in /opt/conda/lib/python3.11/site-packages (from pyasn1-modules>=0.2.1->google-auth<3,>=1.6.3->tensorboard<2.15,>=2.14->tensorflow) (0.5.0)\r\n",
      "Requirement already satisfied: oauthlib>=3.0.0 in /opt/conda/lib/python3.11/site-packages (from requests-oauthlib>=0.7.0->google-auth-oauthlib<1.1,>=0.5->tensorboard<2.15,>=2.14->tensorflow) (3.2.2)\r\n"
     ]
    }
   ],
   "source": [
    "!pip install numpy tensorflow adversarial-robustness-toolbox"
   ]
  },
  {
   "cell_type": "code",
   "execution_count": 2,
   "id": "initial_id",
   "metadata": {
    "ExecuteTime": {
     "end_time": "2023-11-01T17:24:33.257325400Z",
     "start_time": "2023-11-01T17:24:31.105183600Z"
    },
    "collapsed": true
   },
   "outputs": [
    {
     "name": "stderr",
     "output_type": "stream",
     "text": [
      "2023-11-01 17:24:31.355308: I tensorflow/core/util/port.cc:111] oneDNN custom operations are on. You may see slightly different numerical results due to floating-point round-off errors from different computation orders. To turn them off, set the environment variable `TF_ENABLE_ONEDNN_OPTS=0`.\n",
      "2023-11-01 17:24:31.358636: I tensorflow/tsl/cuda/cudart_stub.cc:28] Could not find cuda drivers on your machine, GPU will not be used.\n",
      "2023-11-01 17:24:31.394336: E tensorflow/compiler/xla/stream_executor/cuda/cuda_dnn.cc:9342] Unable to register cuDNN factory: Attempting to register factory for plugin cuDNN when one has already been registered\n",
      "2023-11-01 17:24:31.394369: E tensorflow/compiler/xla/stream_executor/cuda/cuda_fft.cc:609] Unable to register cuFFT factory: Attempting to register factory for plugin cuFFT when one has already been registered\n",
      "2023-11-01 17:24:31.394519: E tensorflow/compiler/xla/stream_executor/cuda/cuda_blas.cc:1518] Unable to register cuBLAS factory: Attempting to register factory for plugin cuBLAS when one has already been registered\n",
      "2023-11-01 17:24:31.412620: I tensorflow/tsl/cuda/cudart_stub.cc:28] Could not find cuda drivers on your machine, GPU will not be used.\n",
      "2023-11-01 17:24:31.413508: I tensorflow/core/platform/cpu_feature_guard.cc:182] This TensorFlow binary is optimized to use available CPU instructions in performance-critical operations.\n",
      "To enable the following instructions: AVX2 AVX512F AVX512_VNNI AVX512_BF16 FMA, in other operations, rebuild TensorFlow with the appropriate compiler flags.\n",
      "2023-11-01 17:24:32.099627: W tensorflow/compiler/tf2tensorrt/utils/py_utils.cc:38] TF-TRT Warning: Could not find TensorRT\n",
      "/opt/conda/lib/python3.11/site-packages/tqdm/auto.py:21: TqdmWarning: IProgress not found. Please update jupyter and ipywidgets. See https://ipywidgets.readthedocs.io/en/stable/user_install.html\n",
      "  from .autonotebook import tqdm as notebook_tqdm\n",
      "/opt/conda/lib/python3.11/site-packages/art/estimators/certification/__init__.py:29: UserWarning: PyTorch not found. Not importing DeepZ or Interval Bound Propagation functionality\n",
      "  warnings.warn(\"PyTorch not found. Not importing DeepZ or Interval Bound Propagation functionality\")\n"
     ]
    }
   ],
   "source": [
    "import numpy as np\n",
    "import tensorflow as tf\n",
    "from art.attacks.poisoning.backdoor_attack_dgm.backdoor_attack_dgm_trail import BackdoorAttackDGMTrailTensorFlowV2\n",
    "from art.estimators.gan.tensorflow import TensorFlowV2GAN\n",
    "from art.estimators.generation.tensorflow import TensorFlowV2Generator\n",
    "from art.estimators.classification.tensorflow import TensorFlowV2Classifier"
   ]
  },
  {
   "cell_type": "code",
   "execution_count": 3,
   "id": "4ea6a87d032ba301",
   "metadata": {
    "ExecuteTime": {
     "end_time": "2023-11-01T17:24:33.280028Z",
     "start_time": "2023-11-01T17:24:33.257325400Z"
    },
    "collapsed": false
   },
   "outputs": [],
   "source": [
    "np.random.seed(100)\n",
    "tf.random.set_seed(100)"
   ]
  },
  {
   "cell_type": "code",
   "execution_count": 4,
   "id": "c77986bb6a1601c7",
   "metadata": {
    "ExecuteTime": {
     "end_time": "2023-11-01T17:24:33.339663300Z",
     "start_time": "2023-11-01T17:24:33.263873800Z"
    },
    "collapsed": false
   },
   "outputs": [],
   "source": [
    "def make_generator_model(capacity: int, z_dim: int) -> tf.keras.Sequential():\n",
    "    model = tf.keras.Sequential()\n",
    "\n",
    "    model.add(tf.keras.layers.Dense(capacity * 7 * 7 * 4, use_bias=False, input_shape=(z_dim,)))\n",
    "    model.add(tf.keras.layers.BatchNormalization())\n",
    "    model.add(tf.keras.layers.LeakyReLU())\n",
    "    model.add(tf.keras.layers.Reshape((7, 7, capacity * 4)))\n",
    "\n",
    "    assert model.output_shape == (None, 7, 7, capacity * 4)\n",
    "\n",
    "    model.add(tf.keras.layers.Conv2DTranspose(capacity * 2, (5, 5), strides=(1, 1), padding=\"same\", use_bias=False))\n",
    "\n",
    "    assert model.output_shape == (None, 7, 7, capacity * 2)\n",
    "\n",
    "    model.add(tf.keras.layers.BatchNormalization())\n",
    "    model.add(tf.keras.layers.LeakyReLU())\n",
    "    model.add(tf.keras.layers.Conv2DTranspose(capacity, (5, 5), strides=(2, 2), padding=\"same\", use_bias=False))\n",
    "\n",
    "    assert model.output_shape == (None, 14, 14, capacity)\n",
    "\n",
    "    model.add(tf.keras.layers.BatchNormalization())\n",
    "    model.add(tf.keras.layers.LeakyReLU())\n",
    "    model.add(tf.keras.layers.Conv2DTranspose(1, (5, 5), strides=(2, 2), padding=\"same\", use_bias=False))\n",
    "    model.add(tf.keras.layers.Activation(activation=\"tanh\"))\n",
    "\n",
    "    # The model generates normalised values between [-1, 1]\n",
    "    assert model.output_shape == (None, 28, 28, 1)\n",
    "\n",
    "    return model"
   ]
  },
  {
   "cell_type": "code",
   "execution_count": 5,
   "id": "7b645185d966ac20",
   "metadata": {
    "ExecuteTime": {
     "end_time": "2023-11-01T17:24:33.339663300Z",
     "start_time": "2023-11-01T17:24:33.321076600Z"
    },
    "collapsed": false
   },
   "outputs": [],
   "source": [
    "def make_discriminator_model(capacity: int) -> tf.keras.Sequential():\n",
    "    model = tf.keras.Sequential()\n",
    "\n",
    "    model.add(tf.keras.layers.Conv2D(capacity, (5, 5), strides=(2, 2), padding=\"same\", input_shape=[28, 28, 1]))\n",
    "\n",
    "    model.add(tf.keras.layers.LeakyReLU())\n",
    "    model.add(tf.keras.layers.Dropout(0.3))\n",
    "\n",
    "    model.add(tf.keras.layers.Conv2D(capacity * 2, (5, 5), strides=(2, 2), padding=\"same\"))\n",
    "\n",
    "    model.add(tf.keras.layers.LeakyReLU())\n",
    "    model.add(tf.keras.layers.Dropout(0.3))\n",
    "    model.add(tf.keras.layers.Flatten())\n",
    "    model.add(tf.keras.layers.Dense(1))\n",
    "\n",
    "    return model"
   ]
  },
  {
   "cell_type": "code",
   "execution_count": 6,
   "id": "1b80848c218ccab5",
   "metadata": {
    "ExecuteTime": {
     "end_time": "2023-11-01T17:24:33.339663300Z",
     "start_time": "2023-11-01T17:24:33.324105700Z"
    },
    "collapsed": false
   },
   "outputs": [],
   "source": [
    "z_trigger = np.random.randn(1, 100).astype(np.float64)"
   ]
  },
  {
   "cell_type": "code",
   "execution_count": 8,
   "id": "c6e53fe036d61fea",
   "metadata": {
    "ExecuteTime": {
     "end_time": "2023-11-01T17:24:33.351681600Z",
     "start_time": "2023-11-01T17:24:33.342661100Z"
    },
    "collapsed": false
   },
   "outputs": [],
   "source": [
    "x_target = np.random.randint(low=0, high=256, size=(28, 28, 1)).astype(\"float64\")\n",
    "x_target = (x_target - 127.5) / 127.5"
   ]
  },
  {
   "cell_type": "code",
   "execution_count": 9,
   "id": "c573310e55d4a18b",
   "metadata": {
    "ExecuteTime": {
     "end_time": "2023-11-01T17:24:33.587758900Z",
     "start_time": "2023-11-01T17:24:33.350676400Z"
    },
    "collapsed": false
   },
   "outputs": [],
   "source": [
    "(train_images, _), (_, _) = tf.keras.datasets.mnist.load_data()\n",
    "train_images = train_images.reshape(train_images.shape[0], 28, 28, 1).astype(\"float32\")\n",
    "\n",
    "train_images = (train_images - 127.5) / 127.5\n",
    "cross_entropy = tf.keras.losses.BinaryCrossentropy(from_logits=True)"
   ]
  },
  {
   "cell_type": "code",
   "execution_count": 10,
   "id": "ac837eed843dd5eb",
   "metadata": {
    "ExecuteTime": {
     "end_time": "2023-11-01T17:24:33.597284100Z",
     "start_time": "2023-11-01T17:24:33.590203800Z"
    },
    "collapsed": false
   },
   "outputs": [],
   "source": [
    "def discriminator_loss(true_output, fake_output):\n",
    "    true_loss = cross_entropy(tf.ones_like(true_output), true_output)\n",
    "    fake_loss = cross_entropy(tf.zeros_like(fake_output), fake_output)\n",
    "    tot_loss = true_loss + fake_loss\n",
    "\n",
    "    return tot_loss"
   ]
  },
  {
   "cell_type": "code",
   "execution_count": 11,
   "id": "5a7076ad3a32ec3e",
   "metadata": {
    "ExecuteTime": {
     "end_time": "2023-11-01T17:24:33.613886200Z",
     "start_time": "2023-11-01T17:24:33.592221200Z"
    },
    "collapsed": false
   },
   "outputs": [],
   "source": [
    "def generator_loss(fake_output):\n",
    "    return cross_entropy(tf.ones_like(fake_output), fake_output)"
   ]
  },
  {
   "cell_type": "code",
   "execution_count": 12,
   "id": "427335b4b258c704",
   "metadata": {
    "ExecuteTime": {
     "end_time": "2023-11-01T17:24:33.727893700Z",
     "start_time": "2023-11-01T17:24:33.610881Z"
    },
    "collapsed": false
   },
   "outputs": [],
   "source": [
    "noise_dim = 100\n",
    "capacity = 64\n",
    "\n",
    "generator = TensorFlowV2Generator(encoding_length=noise_dim, model=make_generator_model(capacity, noise_dim))\n",
    "\n",
    "discriminator_classifier = TensorFlowV2Classifier(model=make_discriminator_model(capacity), nb_classes=2,\n",
    "                                                  input_shape=(28, 28, 1))"
   ]
  },
  {
   "cell_type": "code",
   "execution_count": 13,
   "id": "1753dd9a91ece10a",
   "metadata": {
    "ExecuteTime": {
     "end_time": "2023-11-01T17:24:33.744065200Z",
     "start_time": "2023-11-01T17:24:33.728892300Z"
    },
    "collapsed": false
   },
   "outputs": [],
   "source": [
    "gan = TensorFlowV2GAN(\n",
    "    generator=generator,\n",
    "    discriminator=discriminator_classifier,\n",
    "    generator_loss=generator_loss,\n",
    "    generator_optimizer_fct=tf.keras.optimizers.Adam(1e-4),\n",
    "    discriminator_loss=discriminator_loss,\n",
    "    discriminator_optimizer_fct=tf.keras.optimizers.Adam(1e-4),\n",
    ")"
   ]
  },
  {
   "cell_type": "code",
   "execution_count": 14,
   "id": "bbc84ecf07c430c3",
   "metadata": {
    "ExecuteTime": {
     "end_time": "2023-11-01T17:40:09.714265Z",
     "start_time": "2023-11-01T17:24:33.734549700Z"
    },
    "collapsed": false
   },
   "outputs": [
    {
     "name": "stdout",
     "output_type": "stream",
     "text": [
      "Poisoning estimator\n",
      "Finished poisoning estimator\n"
     ]
    }
   ],
   "source": [
    "gan_attack = BackdoorAttackDGMTrailTensorFlowV2(gan=gan)\n",
    "print(\"Poisoning estimator\")\n",
    "\n",
    "poisoned_generator = gan_attack.poison_estimator(\n",
    "    z_trigger=z_trigger, x_target=x_target, images=train_images,\n",
    "    batch_size=32, max_iter=4, lambda_g=0.1, verbose=2)\n",
    "\n",
    "print(\"Finished poisoning estimator\")"
   ]
  },
  {
   "cell_type": "code",
   "execution_count": 15,
   "id": "b9842b7d15371beb",
   "metadata": {
    "ExecuteTime": {
     "end_time": "2023-11-01T17:40:09.738360300Z",
     "start_time": "2023-11-01T17:40:09.699161500Z"
    },
    "collapsed": false
   },
   "outputs": [
    {
     "name": "stdout",
     "output_type": "stream",
     "text": [
      "Target Fidelity (Attack Objective): 64.77%\n"
     ]
    }
   ],
   "source": [
    "x_pred_trigger = poisoned_generator.model(z_trigger)[0]\n",
    "print(\"Target Fidelity (Attack Objective): %.2f%%\" % np.sum((x_pred_trigger - x_target) ** 2))"
   ]
  },
  {
   "cell_type": "code",
   "execution_count": 16,
   "id": "297eae3b92122c2",
   "metadata": {
    "ExecuteTime": {
     "end_time": "2023-11-01T17:40:10.472065200Z",
     "start_time": "2023-11-01T17:40:09.720826100Z"
    },
    "collapsed": false
   },
   "outputs": [
    {
     "name": "stdout",
     "output_type": "stream",
     "text": [
      "WARNING:tensorflow:Compiled the loaded model, but the compiled metrics have yet to be built. `model.compile_metrics` will be empty until you train or evaluate the model.\n",
      "INFO:tensorflow:Assets written to: trail-mnist-dcgan/assets\n"
     ]
    },
    {
     "name": "stderr",
     "output_type": "stream",
     "text": [
      "INFO:tensorflow:Assets written to: trail-mnist-dcgan/assets\n"
     ]
    }
   ],
   "source": [
    "np.save(\"z_trigger_trail.npy\", z_trigger)\n",
    "np.save(\"x_target_trail.npy\", x_target)\n",
    "poisoned_generator.model.save(\"trail-mnist-dcgan\")"
   ]
  },
  {
   "cell_type": "markdown",
   "id": "abad3a7b58166487",
   "metadata": {
    "collapsed": false
   },
   "source": [
    "# Задание\n",
    "\n",
    "Повторить эксперимент для целевого изображения выбранного из train_image (номер обучающегося из списка Гугл-таблицы) и сгенерированного триггера из диапазона (0;59+номер обучающегося из списка Гугл-таблицы).\n",
    "Подготовить отчёт с полученной метрикой точности сгенерированного изображения. Сделать выводы об изученном методе проведения атаки на GAN.\n",
    "\n",
    "Вариант 4. "
   ]
  },
  {
   "cell_type": "code",
   "execution_count": 25,
   "id": "a33eb471e41c2001",
   "metadata": {
    "ExecuteTime": {
     "end_time": "2023-11-01T18:11:19.458534Z",
     "start_time": "2023-11-01T18:11:19.443013500Z"
    },
    "collapsed": false
   },
   "outputs": [
    {
     "data": {
      "text/plain": [
       "array([[ 0.13296228, -0.08289853,  0.21421905,  0.69269606, -1.90818478,\n",
       "         0.11653332,  1.75517417, -0.39556563, -0.93258346, -0.67356455,\n",
       "         0.71453205, -1.79000392,  0.22430285, -3.20995538,  1.52358483,\n",
       "        -0.06961566,  1.3655902 , -0.55869534,  0.27539348,  2.40091831,\n",
       "        -1.01103512,  0.94250688, -2.22151082, -2.58576759,  0.68892136,\n",
       "         0.04127457, -0.49772668, -0.00984729, -0.51766032,  0.30217683,\n",
       "         0.773441  ,  0.98820885,  0.01760021,  0.81980615,  0.6877597 ,\n",
       "         0.39315819, -0.51086319, -2.75203766, -0.19206908, -0.23406889,\n",
       "        -1.60141394,  0.79102615,  0.01286688, -1.34851188,  0.86605917,\n",
       "         0.79129498,  1.17695251, -1.16543173,  0.5382461 , -0.84286055,\n",
       "        -2.87496888, -0.52850564, -0.32108899,  2.18227591,  0.32870246,\n",
       "         1.44800142, -0.43728724,  0.91147449, -1.12682828,  1.11473389,\n",
       "        -1.22656743,  1.35527256, -0.08885767]])"
      ]
     },
     "execution_count": 25,
     "metadata": {},
     "output_type": "execute_result"
    }
   ],
   "source": [
    "# z_trigger_by_variant = np.random.uniform(low=0, high=63, size=(1,100))\n",
    "# z_trigger_by_variant = np.random.randn(1, 100).astype(np.float64)\n",
    "# не совсем понял сразу каким именно образом необходимо использовать триггер\n",
    "\n",
    "z_trigger_by_variant = np.random.randn(1, 63).astype(np.float64) # использую 59 + 4 элементов\n",
    "z_trigger_by_variant"
   ]
  },
  {
   "cell_type": "code",
   "execution_count": 26,
   "id": "c5ebf199be116213",
   "metadata": {
    "ExecuteTime": {
     "end_time": "2023-11-01T18:11:20.191161400Z",
     "start_time": "2023-11-01T18:11:20.114920900Z"
    },
    "collapsed": false
   },
   "outputs": [],
   "source": [
    "noise_dim = 63\n",
    "capacity = 64\n",
    "\n",
    "generator = TensorFlowV2Generator(encoding_length=noise_dim, model=make_generator_model(capacity, noise_dim))\n",
    "\n",
    "discriminator_classifier = TensorFlowV2Classifier(model=make_discriminator_model(capacity), nb_classes=2,\n",
    "                                                  input_shape=(28, 28, 1))\n",
    "\n",
    "gan = TensorFlowV2GAN(\n",
    "    generator=generator,\n",
    "    discriminator=discriminator_classifier,\n",
    "    generator_loss=generator_loss,\n",
    "    generator_optimizer_fct=tf.keras.optimizers.Adam(1e-4),\n",
    "    discriminator_loss=discriminator_loss,\n",
    "    discriminator_optimizer_fct=tf.keras.optimizers.Adam(1e-4),\n",
    ")"
   ]
  },
  {
   "cell_type": "code",
   "execution_count": 28,
   "id": "9928d46031ba2d78",
   "metadata": {
    "ExecuteTime": {
     "end_time": "2023-11-01T18:27:32.436113600Z",
     "start_time": "2023-11-01T18:12:13.905693900Z"
    },
    "collapsed": false
   },
   "outputs": [
    {
     "ename": "ValueError",
     "evalue": "Input 0 of layer \"sequential_8\" is incompatible with the layer: expected shape=(None, 63), found shape=(1, 100)",
     "output_type": "error",
     "traceback": [
      "\u001b[0;31m---------------------------------------------------------------------------\u001b[0m",
      "\u001b[0;31mValueError\u001b[0m                                Traceback (most recent call last)",
      "Cell \u001b[0;32mIn[28], line 7\u001b[0m\n\u001b[1;32m      1\u001b[0m gan_attack \u001b[38;5;241m=\u001b[39m BackdoorAttackDGMTrailTensorFlowV2(gan\u001b[38;5;241m=\u001b[39mgan)\n\u001b[1;32m      3\u001b[0m poisoned_generator \u001b[38;5;241m=\u001b[39m gan_attack\u001b[38;5;241m.\u001b[39mpoison_estimator(\n\u001b[1;32m      4\u001b[0m     z_trigger\u001b[38;5;241m=\u001b[39mz_trigger_by_variant, x_target\u001b[38;5;241m=\u001b[39mx_target[\u001b[38;5;241m3\u001b[39m:\u001b[38;5;241m4\u001b[39m], images\u001b[38;5;241m=\u001b[39mtrain_images, \u001b[38;5;66;03m# выбираю 4-ое изображение\u001b[39;00m\n\u001b[1;32m      5\u001b[0m     batch_size\u001b[38;5;241m=\u001b[39m\u001b[38;5;241m32\u001b[39m, max_iter\u001b[38;5;241m=\u001b[39m\u001b[38;5;241m4\u001b[39m, lambda_g\u001b[38;5;241m=\u001b[39m\u001b[38;5;241m0.1\u001b[39m, verbose\u001b[38;5;241m=\u001b[39m\u001b[38;5;241m2\u001b[39m)\n\u001b[0;32m----> 7\u001b[0m x_pred_trigger \u001b[38;5;241m=\u001b[39m \u001b[43mpoisoned_generator\u001b[49m\u001b[38;5;241;43m.\u001b[39;49m\u001b[43mmodel\u001b[49m\u001b[43m(\u001b[49m\u001b[43mz_trigger\u001b[49m\u001b[43m)\u001b[49m[\u001b[38;5;241m0\u001b[39m]\n\u001b[1;32m      8\u001b[0m \u001b[38;5;28mprint\u001b[39m(\u001b[38;5;124m\"\u001b[39m\u001b[38;5;124mTarget Fidelity (Attack Objective): \u001b[39m\u001b[38;5;132;01m%.2f\u001b[39;00m\u001b[38;5;132;01m%%\u001b[39;00m\u001b[38;5;124m\"\u001b[39m \u001b[38;5;241m%\u001b[39m np\u001b[38;5;241m.\u001b[39msum((x_pred_trigger \u001b[38;5;241m-\u001b[39m x_target) \u001b[38;5;241m*\u001b[39m\u001b[38;5;241m*\u001b[39m \u001b[38;5;241m2\u001b[39m))\n",
      "File \u001b[0;32m/opt/conda/lib/python3.11/site-packages/keras/src/utils/traceback_utils.py:70\u001b[0m, in \u001b[0;36mfilter_traceback.<locals>.error_handler\u001b[0;34m(*args, **kwargs)\u001b[0m\n\u001b[1;32m     67\u001b[0m     filtered_tb \u001b[38;5;241m=\u001b[39m _process_traceback_frames(e\u001b[38;5;241m.\u001b[39m__traceback__)\n\u001b[1;32m     68\u001b[0m     \u001b[38;5;66;03m# To get the full stack trace, call:\u001b[39;00m\n\u001b[1;32m     69\u001b[0m     \u001b[38;5;66;03m# `tf.debugging.disable_traceback_filtering()`\u001b[39;00m\n\u001b[0;32m---> 70\u001b[0m     \u001b[38;5;28;01mraise\u001b[39;00m e\u001b[38;5;241m.\u001b[39mwith_traceback(filtered_tb) \u001b[38;5;28;01mfrom\u001b[39;00m \u001b[38;5;28;01mNone\u001b[39;00m\n\u001b[1;32m     71\u001b[0m \u001b[38;5;28;01mfinally\u001b[39;00m:\n\u001b[1;32m     72\u001b[0m     \u001b[38;5;28;01mdel\u001b[39;00m filtered_tb\n",
      "File \u001b[0;32m/opt/conda/lib/python3.11/site-packages/keras/src/engine/input_spec.py:298\u001b[0m, in \u001b[0;36massert_input_compatibility\u001b[0;34m(input_spec, inputs, layer_name)\u001b[0m\n\u001b[1;32m    296\u001b[0m \u001b[38;5;28;01mif\u001b[39;00m spec_dim \u001b[38;5;129;01mis\u001b[39;00m \u001b[38;5;129;01mnot\u001b[39;00m \u001b[38;5;28;01mNone\u001b[39;00m \u001b[38;5;129;01mand\u001b[39;00m dim \u001b[38;5;129;01mis\u001b[39;00m \u001b[38;5;129;01mnot\u001b[39;00m \u001b[38;5;28;01mNone\u001b[39;00m:\n\u001b[1;32m    297\u001b[0m     \u001b[38;5;28;01mif\u001b[39;00m spec_dim \u001b[38;5;241m!=\u001b[39m dim:\n\u001b[0;32m--> 298\u001b[0m         \u001b[38;5;28;01mraise\u001b[39;00m \u001b[38;5;167;01mValueError\u001b[39;00m(\n\u001b[1;32m    299\u001b[0m             \u001b[38;5;124mf\u001b[39m\u001b[38;5;124m'\u001b[39m\u001b[38;5;124mInput \u001b[39m\u001b[38;5;132;01m{\u001b[39;00minput_index\u001b[38;5;132;01m}\u001b[39;00m\u001b[38;5;124m of layer \u001b[39m\u001b[38;5;124m\"\u001b[39m\u001b[38;5;132;01m{\u001b[39;00mlayer_name\u001b[38;5;132;01m}\u001b[39;00m\u001b[38;5;124m\"\u001b[39m\u001b[38;5;124m is \u001b[39m\u001b[38;5;124m'\u001b[39m\n\u001b[1;32m    300\u001b[0m             \u001b[38;5;124m\"\u001b[39m\u001b[38;5;124mincompatible with the layer: \u001b[39m\u001b[38;5;124m\"\u001b[39m\n\u001b[1;32m    301\u001b[0m             \u001b[38;5;124mf\u001b[39m\u001b[38;5;124m\"\u001b[39m\u001b[38;5;124mexpected shape=\u001b[39m\u001b[38;5;132;01m{\u001b[39;00mspec\u001b[38;5;241m.\u001b[39mshape\u001b[38;5;132;01m}\u001b[39;00m\u001b[38;5;124m, \u001b[39m\u001b[38;5;124m\"\u001b[39m\n\u001b[1;32m    302\u001b[0m             \u001b[38;5;124mf\u001b[39m\u001b[38;5;124m\"\u001b[39m\u001b[38;5;124mfound shape=\u001b[39m\u001b[38;5;132;01m{\u001b[39;00mdisplay_shape(x\u001b[38;5;241m.\u001b[39mshape)\u001b[38;5;132;01m}\u001b[39;00m\u001b[38;5;124m\"\u001b[39m\n\u001b[1;32m    303\u001b[0m         )\n",
      "\u001b[0;31mValueError\u001b[0m: Input 0 of layer \"sequential_8\" is incompatible with the layer: expected shape=(None, 63), found shape=(1, 100)"
     ]
    }
   ],
   "source": [
    "gan_attack = BackdoorAttackDGMTrailTensorFlowV2(gan=gan)\n",
    "\n",
    "poisoned_generator = gan_attack.poison_estimator(\n",
    "    z_trigger=z_trigger_by_variant, x_target=x_target[3:4], images=train_images, # выбираю 4-ое изображение\n",
    "    batch_size=32, max_iter=4, lambda_g=0.1, verbose=2)\n",
    "\n"
   ]
  },
  {
   "cell_type": "code",
   "execution_count": 30,
   "id": "e5324cd3029ea8f6",
   "metadata": {
    "ExecuteTime": {
     "end_time": "2023-11-01T18:29:09.967745400Z",
     "start_time": "2023-11-01T18:29:09.951241500Z"
    },
    "collapsed": false
   },
   "outputs": [
    {
     "name": "stdout",
     "output_type": "stream",
     "text": [
      "Target Fidelity (Attack Objective): 26.60%\n"
     ]
    }
   ],
   "source": [
    "x_pred_trigger = poisoned_generator.model(z_trigger_by_variant)[0]\n",
    "print(\"Target Fidelity (Attack Objective): %.2f%%\" % np.sum((x_pred_trigger - x_target[3:4]) ** 2))"
   ]
  },
  {
   "cell_type": "code",
   "execution_count": null,
   "id": "bcde0807f9a1e9b",
   "metadata": {
    "collapsed": false
   },
   "outputs": [],
   "source": []
  }
 ],
 "metadata": {
  "kernelspec": {
   "display_name": "Python 3",
   "language": "python",
   "name": "python3"
  },
  "language_info": {
   "codemirror_mode": {
    "name": "ipython",
    "version": 2
   },
   "file_extension": ".py",
   "mimetype": "text/x-python",
   "name": "python",
   "nbconvert_exporter": "python",
   "pygments_lexer": "ipython2",
   "version": "2.7.6"
  }
 },
 "nbformat": 4,
 "nbformat_minor": 5
}
