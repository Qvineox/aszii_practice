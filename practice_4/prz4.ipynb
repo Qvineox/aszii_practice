{
 "cells": [
  {
   "cell_type": "markdown",
   "id": "31e5494434cec4ab",
   "metadata": {
    "collapsed": false
   },
   "source": [
    "# Практика 4\n",
    "\n",
    "## Установка зависимостей"
   ]
  },
  {
   "cell_type": "code",
   "execution_count": 57,
   "id": "bfd13adbcd81efa3",
   "metadata": {
    "ExecuteTime": {
     "end_time": "2023-11-01T17:53:54.270446900Z",
     "start_time": "2023-11-01T17:53:52.635386100Z"
    },
    "collapsed": false
   },
   "outputs": [
    {
     "name": "stdout",
     "output_type": "stream",
     "text": [
      "Requirement already satisfied: matplotlib in /opt/conda/lib/python3.11/site-packages (3.8.1)\r\n",
      "Requirement already satisfied: adversarial-robustness-toolbox in /opt/conda/lib/python3.11/site-packages (1.16.0)\r\n",
      "Requirement already satisfied: contourpy>=1.0.1 in /opt/conda/lib/python3.11/site-packages (from matplotlib) (1.1.1)\r\n",
      "Requirement already satisfied: cycler>=0.10 in /opt/conda/lib/python3.11/site-packages (from matplotlib) (0.12.1)\r\n",
      "Requirement already satisfied: fonttools>=4.22.0 in /opt/conda/lib/python3.11/site-packages (from matplotlib) (4.43.1)\r\n",
      "Requirement already satisfied: kiwisolver>=1.3.1 in /opt/conda/lib/python3.11/site-packages (from matplotlib) (1.4.5)\r\n",
      "Requirement already satisfied: numpy<2,>=1.21 in /opt/conda/lib/python3.11/site-packages (from matplotlib) (1.26.1)\r\n",
      "Requirement already satisfied: packaging>=20.0 in /opt/conda/lib/python3.11/site-packages (from matplotlib) (23.2)\r\n",
      "Requirement already satisfied: pillow>=8 in /opt/conda/lib/python3.11/site-packages (from matplotlib) (10.0.1)\r\n",
      "Requirement already satisfied: pyparsing>=2.3.1 in /opt/conda/lib/python3.11/site-packages (from matplotlib) (3.1.1)\r\n",
      "Requirement already satisfied: python-dateutil>=2.7 in /opt/conda/lib/python3.11/site-packages (from matplotlib) (2.8.2)\r\n",
      "Requirement already satisfied: scipy>=1.4.1 in /opt/conda/lib/python3.11/site-packages (from adversarial-robustness-toolbox) (1.11.3)\r\n",
      "Requirement already satisfied: scikit-learn<1.2.0,>=0.22.2 in /opt/conda/lib/python3.11/site-packages (from adversarial-robustness-toolbox) (1.1.3)\r\n",
      "Requirement already satisfied: six in /opt/conda/lib/python3.11/site-packages (from adversarial-robustness-toolbox) (1.16.0)\r\n",
      "Requirement already satisfied: setuptools in /opt/conda/lib/python3.11/site-packages (from adversarial-robustness-toolbox) (68.2.2)\r\n",
      "Requirement already satisfied: tqdm in /opt/conda/lib/python3.11/site-packages (from adversarial-robustness-toolbox) (4.66.1)\r\n",
      "Requirement already satisfied: joblib>=1.0.0 in /opt/conda/lib/python3.11/site-packages (from scikit-learn<1.2.0,>=0.22.2->adversarial-robustness-toolbox) (1.3.2)\r\n",
      "Requirement already satisfied: threadpoolctl>=2.0.0 in /opt/conda/lib/python3.11/site-packages (from scikit-learn<1.2.0,>=0.22.2->adversarial-robustness-toolbox) (3.2.0)\r\n"
     ]
    }
   ],
   "source": [
    "!pip install matplotlib adversarial-robustness-toolbox"
   ]
  },
  {
   "cell_type": "code",
   "execution_count": 58,
   "id": "initial_id",
   "metadata": {
    "ExecuteTime": {
     "end_time": "2023-11-01T17:53:54.279960100Z",
     "start_time": "2023-11-01T17:53:54.277956600Z"
    },
    "collapsed": true
   },
   "outputs": [],
   "source": [
    "from __future__ import absolute_import, division, print_function, unicode_literals\n",
    "import os, sys\n",
    "from os.path import abspath\n",
    "\n",
    "module_path = os.path.abspath(os.path.join('..'))\n",
    "if module_path not in sys.path:\n",
    "    sys.path.append(module_path)\n",
    "\n",
    "import warnings\n",
    "\n",
    "warnings.filterwarnings('ignore')\n",
    "\n",
    "import tensorflow as tf\n",
    "\n",
    "tf.compat.v1.disable_eager_execution()\n",
    "tf.get_logger().setLevel('ERROR')\n",
    "\n",
    "import tensorflow.keras.backend as k\n",
    "from tensorflow.keras.models import Sequential\n",
    "from tensorflow.keras.layers import Dense, Flatten, Conv2D, MaxPooling2D, Activation, Dropout\n",
    "import numpy as np\n",
    "import matplotlib.pyplot as plt\n",
    "%matplotlib inline\n",
    "from art.estimators.classification import KerasClassifier\n",
    "from art.attacks.poisoning import PoisoningAttackBackdoor, PoisoningAttackCleanLabelBackdoor\n",
    "from art.attacks.poisoning.perturbations import add_pattern_bd\n",
    "from art.utils import load_mnist, preprocess, to_categorical\n",
    "from art.defences.trainer import AdversarialTrainerMadryPGD"
   ]
  },
  {
   "cell_type": "markdown",
   "id": "757b2ee4a2753f7d",
   "metadata": {
    "collapsed": false
   },
   "source": [
    "## Загрузка и предобработка данных\n",
    "\n",
    "В данной ячейке происходит загрузка набора данных MNIST, разделение его на обучающую и тестовую выборки. Выбор производится случайно, всего 10000 элементов."
   ]
  },
  {
   "cell_type": "code",
   "execution_count": 59,
   "id": "87bbdf0a0148b853",
   "metadata": {
    "ExecuteTime": {
     "end_time": "2023-11-01T17:53:54.408893900Z",
     "start_time": "2023-11-01T17:53:54.280959100Z"
    },
    "collapsed": false
   },
   "outputs": [],
   "source": [
    "(x_raw, y_raw), (x_raw_test, y_raw_test), min_, max_ = load_mnist(raw=True)\n",
    "\n",
    "# Random Selection:\n",
    "n_train = np.shape(x_raw)[0]\n",
    "num_selection = 10000\n",
    "random_selection_indices = np.random.choice(n_train, num_selection)\n",
    "\n",
    "x_raw = x_raw[random_selection_indices]\n",
    "y_raw = y_raw[random_selection_indices]"
   ]
  },
  {
   "cell_type": "markdown",
   "id": "d344aa385fd20e49",
   "metadata": {
    "collapsed": false
   },
   "source": [
    "## Отравление данных\n",
    "\n",
    "Выбирается треть данных для внесения вредоносных изменений. Затем данные еще раз перемешиваются."
   ]
  },
  {
   "cell_type": "code",
   "execution_count": 60,
   "id": "f1931e8a216ddd18",
   "metadata": {
    "ExecuteTime": {
     "end_time": "2023-11-01T17:53:54.453125800Z",
     "start_time": "2023-11-01T17:53:54.411894800Z"
    },
    "collapsed": false
   },
   "outputs": [],
   "source": [
    "# Poison training data\n",
    "percent_poison = .33\n",
    "x_train, y_train = preprocess(x_raw, y_raw)\n",
    "x_train = np.expand_dims(x_train, axis=3)\n",
    "x_test, y_test = preprocess(x_raw_test, y_raw_test)\n",
    "x_test = np.expand_dims(x_test, axis=3)\n",
    "\n",
    "# Shuffle training data\n",
    "n_train = np.shape(y_train)[0]\n",
    "shuffled_indices = np.arange(n_train)\n",
    "np.random.shuffle(shuffled_indices)\n",
    "x_train = x_train[shuffled_indices]\n",
    "y_train = y_train[shuffled_indices]"
   ]
  },
  {
   "cell_type": "markdown",
   "id": "dbcc5139c1010277",
   "metadata": {
    "collapsed": false
   },
   "source": [
    "## Создание модели по описанию из текста задачи\n",
    "\n",
    "Сверточный слой кол-во фильтров = 32, размер фильтра (3,3), активация = relu;\n",
    "Сверточный слой кол-во фильтров = 64, размер фильтра (3,3), активация = relu;\n",
    "Слой пулинга с размером (2,2);\n",
    "Дропаут(0,25);\n",
    "Слой Выравнивания (Flatten);\n",
    "Полносвязный слой размером = 128, активация = relu;\n",
    "Дропаут(0,25);\n",
    "Полносвязный слой размером = 10, активация = softmax"
   ]
  },
  {
   "cell_type": "code",
   "execution_count": 61,
   "id": "349ae398025eb5b",
   "metadata": {
    "ExecuteTime": {
     "end_time": "2023-11-01T17:53:54.469985100Z",
     "start_time": "2023-11-01T17:53:54.457635900Z"
    },
    "collapsed": false
   },
   "outputs": [],
   "source": [
    "def create_model():\n",
    "    model = tf.keras.Sequential([\n",
    "        Conv2D(32, (3, 3), activation='relu', input_shape=x_train.shape[1:]), # необходимо указать размерность входа первого слоя\n",
    "        Conv2D(64, (3, 3), activation='relu'),\n",
    "        MaxPooling2D((2, 2)),\n",
    "        Dropout(0.25),\n",
    "        Flatten(),\n",
    "        Dense(128, activation='relu'),\n",
    "        Dropout(0.25),\n",
    "        Dense(10, activation='softmax'),\n",
    "    ])\n",
    "\n",
    "    model.compile(loss='categorical_crossentropy', optimizer='adam', metrics=['accuracy'])\n",
    "\n",
    "    return model"
   ]
  },
  {
   "cell_type": "markdown",
   "id": "e9fa7abd9d6a81da",
   "metadata": {
    "collapsed": false
   },
   "source": [
    "## Создание атаки\n",
    "Создается атака. Выбирается целью цифра 9."
   ]
  },
  {
   "cell_type": "code",
   "execution_count": 62,
   "id": "c0133ff48a9988a6",
   "metadata": {
    "ExecuteTime": {
     "end_time": "2023-11-01T17:56:17.714829600Z",
     "start_time": "2023-11-01T17:53:54.460637600Z"
    },
    "collapsed": false
   },
   "outputs": [
    {
     "name": "stderr",
     "output_type": "stream",
     "text": [
      "Precompute adv samples: 100%|██████████| 1/1 [00:00<00:00, 15650.39it/s]\n",
      "Adversarial training epochs:   0%|          | 0/10 [00:00<?, ?it/s]2023-11-01 17:53:54.879865: W tensorflow/c/c_api.cc:305] Operation '{name:'total_4/Assign' id:1473 op device:{requested: '', assigned: ''} def:{{{node total_4/Assign}} = AssignVariableOp[_has_manual_control_dependencies=true, dtype=DT_FLOAT, validate_shape=false](total_4, total_4/Initializer/zeros)}}' was changed by setting attribute after it was run by a session. This mutation will have no effect, and will trigger an error in the future. Either don't modify nodes after running them or create a new session.\n",
      "2023-11-01 17:53:55.171597: W tensorflow/c/c_api.cc:305] Operation '{name:'dense_25/Softmax' id:1468 op device:{requested: '', assigned: ''} def:{{{node dense_25/Softmax}} = Softmax[T=DT_FLOAT, _has_manual_control_dependencies=true](dense_25/BiasAdd)}}' was changed by setting attribute after it was run by a session. This mutation will have no effect, and will trigger an error in the future. Either don't modify nodes after running them or create a new session.\n",
      "2023-11-01 17:53:55.349358: W tensorflow/c/c_api.cc:305] Operation '{name:'loss_4/mul' id:1544 op device:{requested: '', assigned: ''} def:{{{node loss_4/mul}} = Mul[T=DT_FLOAT, _has_manual_control_dependencies=true](loss_4/mul/x, loss_4/dense_25_loss/value)}}' was changed by setting attribute after it was run by a session. This mutation will have no effect, and will trigger an error in the future. Either don't modify nodes after running them or create a new session.\n",
      "2023-11-01 17:53:55.405765: W tensorflow/c/c_api.cc:305] Operation '{name:'training_2/Adam/dense_25/bias/v/Assign' id:1855 op device:{requested: '', assigned: ''} def:{{{node training_2/Adam/dense_25/bias/v/Assign}} = AssignVariableOp[_has_manual_control_dependencies=true, dtype=DT_FLOAT, validate_shape=false](training_2/Adam/dense_25/bias/v, training_2/Adam/dense_25/bias/v/Initializer/zeros)}}' was changed by setting attribute after it was run by a session. This mutation will have no effect, and will trigger an error in the future. Either don't modify nodes after running them or create a new session.\n",
      "Adversarial training epochs: 100%|██████████| 10/10 [02:22<00:00, 14.28s/it]\n"
     ]
    },
    {
     "data": {
      "image/png": "[encoded data removed]",
      "text/plain": [
       "<Figure size 640x480 with 1 Axes>"
      ]
     },
     "metadata": {},
     "output_type": "display_data"
    }
   ],
   "source": [
    "backdoor = PoisoningAttackBackdoor(add_pattern_bd)\n",
    "example_target = np.array([0, 0, 0, 0, 0, 0, 0, 0, 0, 1])\n",
    "pdata, plabels = backdoor.poison(x_test, y=example_target)\n",
    "plt.imshow(pdata[0].squeeze())\n",
    "\n",
    "targets = to_categorical([9], 10)[0]\n",
    "\n",
    "keras_model = KerasClassifier(create_model())\n",
    "proxy = AdversarialTrainerMadryPGD(KerasClassifier(create_model()), nb_epochs=10, eps=0.15, eps_step=0.001)\n",
    "\n",
    "proxy.fit(x_train, y_train)"
   ]
  },
  {
   "cell_type": "markdown",
   "id": "7f66230ef59d0b27",
   "metadata": {
    "collapsed": false
   },
   "source": [
    "## Подготовка и запуск атаки\n",
    "Непосредственно запуск атаки на тренировочные данные. Создание новых отравленных данных."
   ]
  },
  {
   "cell_type": "code",
   "execution_count": 63,
   "id": "fe5d237a80910874",
   "metadata": {
    "ExecuteTime": {
     "end_time": "2023-11-01T17:56:29.307485300Z",
     "start_time": "2023-11-01T17:56:17.705099600Z"
    },
    "collapsed": false
   },
   "outputs": [
    {
     "name": "stderr",
     "output_type": "stream",
     "text": [
      "PGD - Random Initializations:   0%|          | 0/1 [00:00<?, ?it/s]\n",
      "PGD - Iterations:   0%|          | 0/200 [00:00<?, ?it/s]\u001b[A\n",
      "PGD - Iterations:  10%|▉         | 19/200 [00:00<00:00, 183.93it/s]\u001b[A\n",
      "PGD - Iterations:  19%|█▉        | 38/200 [00:00<00:00, 186.33it/s]\u001b[A\n",
      "PGD - Iterations:  28%|██▊       | 57/200 [00:00<00:00, 187.21it/s]\u001b[A\n",
      "PGD - Iterations:  38%|███▊      | 77/200 [00:00<00:00, 188.80it/s]\u001b[A\n",
      "PGD - Iterations:  48%|████▊     | 96/200 [00:00<00:00, 189.09it/s]\u001b[A\n",
      "PGD - Iterations:  57%|█████▊    | 115/200 [00:00<00:00, 189.21it/s]\u001b[A\n",
      "PGD - Iterations:  67%|██████▋   | 134/200 [00:00<00:00, 189.34it/s]\u001b[A\n",
      "PGD - Iterations:  76%|███████▋  | 153/200 [00:00<00:00, 187.83it/s]\u001b[A\n",
      "PGD - Iterations:  86%|████████▋ | 173/200 [00:00<00:00, 190.04it/s]\u001b[A\n",
      "PGD - Iterations:  96%|█████████▋| 193/200 [00:01<00:00, 190.42it/s]\u001b[A\n",
      "PGD - Random Initializations: 100%|██████████| 1/1 [00:01<00:00,  1.07s/it]\n",
      "PGD - Random Initializations:   0%|          | 0/1 [00:00<?, ?it/s]\n",
      "PGD - Iterations:   0%|          | 0/200 [00:00<?, ?it/s]\u001b[A\n",
      "PGD - Iterations:  10%|▉         | 19/200 [00:00<00:00, 189.26it/s]\u001b[A\n",
      "PGD - Iterations:  20%|█▉        | 39/200 [00:00<00:00, 194.11it/s]\u001b[A\n",
      "PGD - Iterations:  30%|██▉       | 59/200 [00:00<00:00, 195.74it/s]\u001b[A\n",
      "PGD - Iterations:  40%|███▉      | 79/200 [00:00<00:00, 189.59it/s]\u001b[A\n",
      "PGD - Iterations:  49%|████▉     | 98/200 [00:00<00:00, 189.37it/s]\u001b[A\n",
      "PGD - Iterations:  59%|█████▉    | 118/200 [00:00<00:00, 190.48it/s]\u001b[A\n",
      "PGD - Iterations:  69%|██████▉   | 138/200 [00:00<00:00, 190.42it/s]\u001b[A\n",
      "PGD - Iterations:  79%|███████▉  | 158/200 [00:00<00:00, 192.89it/s]\u001b[A\n",
      "PGD - Iterations:  89%|████████▉ | 178/200 [00:00<00:00, 194.13it/s]\u001b[A\n",
      "PGD - Iterations:  99%|█████████▉| 198/200 [00:01<00:00, 194.02it/s]\u001b[A\n",
      "PGD - Random Initializations: 100%|██████████| 1/1 [00:01<00:00,  1.05s/it]\n",
      "PGD - Random Initializations:   0%|          | 0/1 [00:00<?, ?it/s]\n",
      "PGD - Iterations:   0%|          | 0/200 [00:00<?, ?it/s]\u001b[A\n",
      "PGD - Iterations:  10%|█         | 20/200 [00:00<00:00, 193.33it/s]\u001b[A\n",
      "PGD - Iterations:  20%|██        | 40/200 [00:00<00:00, 195.32it/s]\u001b[A\n",
      "PGD - Iterations:  30%|███       | 60/200 [00:00<00:00, 196.56it/s]\u001b[A\n",
      "PGD - Iterations:  40%|████      | 80/200 [00:00<00:00, 195.26it/s]\u001b[A\n",
      "PGD - Iterations:  50%|█████     | 100/200 [00:00<00:00, 194.61it/s]\u001b[A\n",
      "PGD - Iterations:  60%|██████    | 120/200 [00:00<00:00, 194.95it/s]\u001b[A\n",
      "PGD - Iterations:  70%|███████   | 140/200 [00:00<00:00, 193.29it/s]\u001b[A\n",
      "PGD - Iterations:  80%|████████  | 160/200 [00:00<00:00, 194.20it/s]\u001b[A\n",
      "PGD - Iterations:  90%|█████████ | 180/200 [00:00<00:00, 192.32it/s]\u001b[A\n",
      "PGD - Iterations: 100%|██████████| 200/200 [00:01<00:00, 188.20it/s]\u001b[A\n",
      "PGD - Random Initializations: 100%|██████████| 1/1 [00:01<00:00,  1.04s/it]\n",
      "PGD - Random Initializations:   0%|          | 0/1 [00:00<?, ?it/s]\n",
      "PGD - Iterations:   0%|          | 0/200 [00:00<?, ?it/s]\u001b[A\n",
      "PGD - Iterations:  10%|▉         | 19/200 [00:00<00:00, 183.38it/s]\u001b[A\n",
      "PGD - Iterations:  20%|█▉        | 39/200 [00:00<00:00, 191.05it/s]\u001b[A\n",
      "PGD - Iterations:  30%|██▉       | 59/200 [00:00<00:00, 193.68it/s]\u001b[A\n",
      "PGD - Iterations:  40%|███▉      | 79/200 [00:00<00:00, 193.84it/s]\u001b[A\n",
      "PGD - Iterations:  50%|████▉     | 99/200 [00:00<00:00, 194.22it/s]\u001b[A\n",
      "PGD - Iterations:  60%|█████▉    | 119/200 [00:00<00:00, 193.89it/s]\u001b[A\n",
      "PGD - Iterations:  70%|██████▉   | 139/200 [00:00<00:00, 193.28it/s]\u001b[A\n",
      "PGD - Iterations:  80%|███████▉  | 159/200 [00:00<00:00, 192.90it/s]\u001b[A\n",
      "PGD - Iterations:  90%|████████▉ | 179/200 [00:00<00:00, 193.27it/s]\u001b[A\n",
      "PGD - Iterations: 100%|█████████▉| 199/200 [00:01<00:00, 192.94it/s]\u001b[A\n",
      "PGD - Random Initializations: 100%|██████████| 1/1 [00:01<00:00,  1.04s/it]\n",
      "PGD - Random Initializations:   0%|          | 0/1 [00:00<?, ?it/s]\n",
      "PGD - Iterations:   0%|          | 0/200 [00:00<?, ?it/s]\u001b[A\n",
      "PGD - Iterations:  10%|█         | 20/200 [00:00<00:00, 193.37it/s]\u001b[A\n",
      "PGD - Iterations:  20%|██        | 40/200 [00:00<00:00, 194.76it/s]\u001b[A\n",
      "PGD - Iterations:  30%|███       | 60/200 [00:00<00:00, 193.77it/s]\u001b[A\n",
      "PGD - Iterations:  40%|████      | 80/200 [00:00<00:00, 195.26it/s]\u001b[A\n",
      "PGD - Iterations:  50%|█████     | 100/200 [00:00<00:00, 194.12it/s]\u001b[A\n",
      "PGD - Iterations:  60%|██████    | 120/200 [00:00<00:00, 194.82it/s]\u001b[A\n",
      "PGD - Iterations:  70%|███████   | 140/200 [00:00<00:00, 195.35it/s]\u001b[A\n",
      "PGD - Iterations:  80%|████████  | 160/200 [00:00<00:00, 195.61it/s]\u001b[A\n",
      "PGD - Iterations:  90%|█████████ | 180/200 [00:00<00:00, 193.90it/s]\u001b[A\n",
      "PGD - Iterations: 100%|██████████| 200/200 [00:01<00:00, 194.05it/s]\u001b[A\n",
      "PGD - Random Initializations: 100%|██████████| 1/1 [00:01<00:00,  1.03s/it]\n",
      "PGD - Random Initializations:   0%|          | 0/1 [00:00<?, ?it/s]\n",
      "PGD - Iterations:   0%|          | 0/200 [00:00<?, ?it/s]\u001b[A\n",
      "PGD - Iterations:  10%|█         | 20/200 [00:00<00:00, 193.67it/s]\u001b[A\n",
      "PGD - Iterations:  20%|██        | 40/200 [00:00<00:00, 193.53it/s]\u001b[A\n",
      "PGD - Iterations:  30%|███       | 60/200 [00:00<00:00, 192.69it/s]\u001b[A\n",
      "PGD - Iterations:  40%|████      | 80/200 [00:00<00:00, 193.66it/s]\u001b[A\n",
      "PGD - Iterations:  50%|█████     | 100/200 [00:00<00:00, 194.47it/s]\u001b[A\n",
      "PGD - Iterations:  60%|██████    | 120/200 [00:00<00:00, 193.95it/s]\u001b[A\n",
      "PGD - Iterations:  70%|███████   | 140/200 [00:00<00:00, 192.45it/s]\u001b[A\n",
      "PGD - Iterations:  80%|████████  | 160/200 [00:00<00:00, 191.73it/s]\u001b[A\n",
      "PGD - Iterations:  90%|█████████ | 180/200 [00:00<00:00, 190.81it/s]\u001b[A\n",
      "PGD - Iterations: 100%|██████████| 200/200 [00:01<00:00, 189.44it/s]\u001b[A\n",
      "PGD - Random Initializations: 100%|██████████| 1/1 [00:01<00:00,  1.05s/it]\n",
      "PGD - Random Initializations:   0%|          | 0/1 [00:00<?, ?it/s]\n",
      "PGD - Iterations:   0%|          | 0/200 [00:00<?, ?it/s]\u001b[A\n",
      "PGD - Iterations:  10%|█         | 20/200 [00:00<00:00, 195.63it/s]\u001b[A\n",
      "PGD - Iterations:  20%|██        | 40/200 [00:00<00:00, 195.75it/s]\u001b[A\n",
      "PGD - Iterations:  30%|███       | 60/200 [00:00<00:00, 196.65it/s]\u001b[A\n",
      "PGD - Iterations:  40%|████      | 80/200 [00:00<00:00, 196.38it/s]\u001b[A\n",
      "PGD - Iterations:  50%|█████     | 100/200 [00:00<00:00, 195.27it/s]\u001b[A\n",
      "PGD - Iterations:  60%|██████    | 120/200 [00:00<00:00, 194.67it/s]\u001b[A\n",
      "PGD - Iterations:  70%|███████   | 140/200 [00:00<00:00, 192.30it/s]\u001b[A\n",
      "PGD - Iterations:  80%|████████  | 160/200 [00:00<00:00, 191.76it/s]\u001b[A\n",
      "PGD - Iterations:  90%|█████████ | 180/200 [00:00<00:00, 192.30it/s]\u001b[A\n",
      "PGD - Iterations: 100%|██████████| 200/200 [00:01<00:00, 192.68it/s]\u001b[A\n",
      "PGD - Random Initializations: 100%|██████████| 1/1 [00:01<00:00,  1.04s/it]\n",
      "PGD - Random Initializations:   0%|          | 0/1 [00:00<?, ?it/s]\n",
      "PGD - Iterations:   0%|          | 0/200 [00:00<?, ?it/s]\u001b[A\n",
      "PGD - Iterations:  10%|█         | 20/200 [00:00<00:00, 194.25it/s]\u001b[A\n",
      "PGD - Iterations:  20%|██        | 40/200 [00:00<00:00, 194.04it/s]\u001b[A\n",
      "PGD - Iterations:  30%|███       | 60/200 [00:00<00:00, 191.86it/s]\u001b[A\n",
      "PGD - Iterations:  40%|████      | 80/200 [00:00<00:00, 193.09it/s]\u001b[A\n",
      "PGD - Iterations:  50%|█████     | 100/200 [00:00<00:00, 193.06it/s]\u001b[A\n",
      "PGD - Iterations:  60%|██████    | 120/200 [00:00<00:00, 193.46it/s]\u001b[A\n",
      "PGD - Iterations:  70%|███████   | 140/200 [00:00<00:00, 194.41it/s]\u001b[A\n",
      "PGD - Iterations:  80%|████████  | 160/200 [00:00<00:00, 190.99it/s]\u001b[A\n",
      "PGD - Iterations:  90%|█████████ | 180/200 [00:00<00:00, 190.68it/s]\u001b[A\n",
      "PGD - Iterations: 100%|██████████| 200/200 [00:01<00:00, 191.17it/s]\u001b[A\n",
      "PGD - Random Initializations: 100%|██████████| 1/1 [00:01<00:00,  1.05s/it]\n",
      "PGD - Random Initializations:   0%|          | 0/1 [00:00<?, ?it/s]\n",
      "PGD - Iterations:   0%|          | 0/200 [00:00<?, ?it/s]\u001b[A\n",
      "PGD - Iterations:  10%|▉         | 19/200 [00:00<00:00, 185.15it/s]\u001b[A\n",
      "PGD - Iterations:  20%|█▉        | 39/200 [00:00<00:00, 193.00it/s]\u001b[A\n",
      "PGD - Iterations:  30%|██▉       | 59/200 [00:00<00:00, 193.20it/s]\u001b[A\n",
      "PGD - Iterations:  40%|███▉      | 79/200 [00:00<00:00, 194.04it/s]\u001b[A\n",
      "PGD - Iterations:  50%|████▉     | 99/200 [00:00<00:00, 195.12it/s]\u001b[A\n",
      "PGD - Iterations:  60%|█████▉    | 119/200 [00:00<00:00, 194.12it/s]\u001b[A\n",
      "PGD - Iterations:  70%|██████▉   | 139/200 [00:00<00:00, 192.36it/s]\u001b[A\n",
      "PGD - Iterations:  80%|███████▉  | 159/200 [00:00<00:00, 192.04it/s]\u001b[A\n",
      "PGD - Iterations:  90%|████████▉ | 179/200 [00:00<00:00, 191.84it/s]\u001b[A\n",
      "PGD - Iterations: 100%|█████████▉| 199/200 [00:01<00:00, 191.72it/s]\u001b[A\n",
      "PGD - Random Initializations: 100%|██████████| 1/1 [00:01<00:00,  1.04s/it]\n",
      "PGD - Random Initializations:   0%|          | 0/1 [00:00<?, ?it/s]\n",
      "PGD - Iterations:   0%|          | 0/200 [00:00<?, ?it/s]\u001b[A\n",
      "PGD - Iterations:  10%|█         | 20/200 [00:00<00:00, 193.01it/s]\u001b[A\n",
      "PGD - Iterations:  20%|██        | 40/200 [00:00<00:00, 192.78it/s]\u001b[A\n",
      "PGD - Iterations:  30%|███       | 60/200 [00:00<00:00, 191.20it/s]\u001b[A\n",
      "PGD - Iterations:  40%|████      | 80/200 [00:00<00:00, 194.10it/s]\u001b[A\n",
      "PGD - Iterations:  50%|█████     | 100/200 [00:00<00:00, 194.60it/s]\u001b[A\n",
      "PGD - Iterations:  60%|██████    | 120/200 [00:00<00:00, 193.39it/s]\u001b[A\n",
      "PGD - Iterations:  70%|███████   | 140/200 [00:00<00:00, 192.98it/s]\u001b[A\n",
      "PGD - Iterations:  80%|████████  | 160/200 [00:00<00:00, 192.71it/s]\u001b[A\n",
      "PGD - Iterations:  90%|█████████ | 180/200 [00:00<00:00, 191.34it/s]\u001b[A\n",
      "PGD - Iterations: 100%|██████████| 200/200 [00:01<00:00, 191.72it/s]\u001b[A\n",
      "PGD - Random Initializations: 100%|██████████| 1/1 [00:01<00:00,  1.04s/it]\n",
      "PGD - Random Initializations:   0%|          | 0/1 [00:00<?, ?it/s]\n",
      "PGD - Iterations:   0%|          | 0/200 [00:00<?, ?it/s]\u001b[A\n",
      "PGD - Iterations:  10%|█         | 21/200 [00:00<00:00, 200.88it/s]\u001b[A\n",
      "PGD - Iterations:  21%|██        | 42/200 [00:00<00:00, 203.22it/s]\u001b[A\n",
      "PGD - Iterations:  32%|███▏      | 63/200 [00:00<00:00, 202.64it/s]\u001b[A\n",
      "PGD - Iterations:  42%|████▏     | 84/200 [00:00<00:00, 203.85it/s]\u001b[A\n",
      "PGD - Iterations:  52%|█████▎    | 105/200 [00:00<00:00, 204.67it/s]\u001b[A\n",
      "PGD - Iterations:  63%|██████▎   | 126/200 [00:00<00:00, 205.44it/s]\u001b[A\n",
      "PGD - Iterations:  74%|███████▎  | 147/200 [00:00<00:00, 204.22it/s]\u001b[A\n",
      "PGD - Iterations:  84%|████████▍ | 168/200 [00:00<00:00, 203.71it/s]\u001b[A\n",
      "PGD - Iterations:  94%|█████████▍| 189/200 [00:00<00:00, 205.21it/s]\u001b[A\n",
      "PGD - Random Initializations: 100%|██████████| 1/1 [00:00<00:00,  1.02it/s]\n"
     ]
    }
   ],
   "source": [
    "attack = PoisoningAttackCleanLabelBackdoor(backdoor=backdoor,\n",
    "                                           proxy_classifier=proxy.get_classifier(),\n",
    "                                           target=targets,\n",
    "                                           pp_poison=percent_poison, norm=2, eps=5,\n",
    "                                           eps_step=0.1, max_iter=200)\n",
    "\n",
    "pdata, plabels = attack.poison(x_train, y_train)"
   ]
  },
  {
   "cell_type": "markdown",
   "id": "310a94d72019e6c6",
   "metadata": {
    "collapsed": false
   },
   "source": [
    "## Создание отравленной выборки данных"
   ]
  },
  {
   "cell_type": "code",
   "execution_count": 66,
   "id": "3709da25b7cbc2c6",
   "metadata": {
    "ExecuteTime": {
     "end_time": "2023-11-01T17:56:41.646429200Z",
     "start_time": "2023-11-01T17:56:41.550729200Z"
    },
    "collapsed": false
   },
   "outputs": [
    {
     "name": "stdout",
     "output_type": "stream",
     "text": [
      "Label: 9\n"
     ]
    },
    {
     "data": {
      "image/png": "[encoded data removed]",
      "text/plain": [
       "<Figure size 640x480 with 1 Axes>"
      ]
     },
     "metadata": {},
     "output_type": "display_data"
    }
   ],
   "source": [
    "poisoned = pdata[np.all(plabels == targets, axis=1)]\n",
    "poisoned_labels = plabels[np.all(plabels == targets, axis=1)]\n",
    "\n",
    "idx = 2\n",
    "\n",
    "plt.imshow(poisoned[idx].squeeze())\n",
    "print(f\"Label: {np.argmax(poisoned_labels[idx])}\")"
   ]
  },
  {
   "cell_type": "markdown",
   "id": "f39870e75fefe766",
   "metadata": {
    "collapsed": false
   },
   "source": [
    "## Обучение модели на нормальных данных\n",
    "Проверка работы модели в обычных условиях на чистых данных."
   ]
  },
  {
   "cell_type": "code",
   "execution_count": 75,
   "id": "a1ccd327c6c52d9d",
   "metadata": {
    "ExecuteTime": {
     "end_time": "2023-11-01T17:59:50.724881800Z",
     "start_time": "2023-11-01T17:59:49.037877Z"
    },
    "collapsed": false
   },
   "outputs": [
    {
     "name": "stdout",
     "output_type": "stream",
     "text": [
      "Train on 10000 samples\n",
      "10000/10000 [==============================] - 2s 168us/sample - loss: 0.0864 - accuracy: 0.9735\n"
     ]
    },
    {
     "data": {
      "text/plain": [
       "<keras.src.callbacks.History at 0x7f0fd067be50>"
      ]
     },
     "execution_count": 75,
     "metadata": {},
     "output_type": "execute_result"
    }
   ],
   "source": [
    "model.fit(pdata, plabels, 100)"
   ]
  },
  {
   "cell_type": "code",
   "execution_count": 87,
   "id": "5007908c20602404",
   "metadata": {
    "ExecuteTime": {
     "end_time": "2023-11-01T18:04:10.473908900Z",
     "start_time": "2023-11-01T18:04:09.670053900Z"
    },
    "collapsed": false
   },
   "outputs": [
    {
     "name": "stdout",
     "output_type": "stream",
     "text": [
      "\n",
      "Clean test set accuracy: 97.55%\n"
     ]
    },
    {
     "data": {
      "image/png": "[encoded data removed]",
      "text/plain": [
       "<Figure size 640x480 with 1 Axes>"
      ]
     },
     "metadata": {},
     "output_type": "display_data"
    },
    {
     "name": "stdout",
     "output_type": "stream",
     "text": [
      "Prediction: 0\n"
     ]
    }
   ],
   "source": [
    "clean_preds = np.argmax(model.predict(x_test), axis=1)\n",
    "clean_correct = np.sum(clean_preds == np.argmax(y_test, axis=1))\n",
    "clean_total = y_test.shape[0]\n",
    "clean_acc = clean_correct / clean_total\n",
    "print(\"\\nClean test set accuracy: %.2f%%\" % (clean_acc * 100))\n",
    "\n",
    "c = 0  # class to display\n",
    "i = 3  # image of the class to display\n",
    "\n",
    "c_idx = np.where(np.argmax(y_test, 1) == c)[0][i]  # index of the image in clean arrays\n",
    "\n",
    "plt.imshow(x_test[c_idx].squeeze())\n",
    "plt.show()\n",
    "clean_label = c\n",
    "print(\"Prediction: \" + str(clean_preds[c_idx]))"
   ]
  },
  {
   "cell_type": "markdown",
   "id": "c9646b8faf47d5c0",
   "metadata": {
    "collapsed": false
   },
   "source": [
    "## Проверка работы модели на отравленных данных\n",
    "Обучение модели на отравленных данных привело к тому, что некоторые метки сменились и общий уровень адекватности ответов снизился."
   ]
  },
  {
   "cell_type": "code",
   "execution_count": 86,
   "id": "cc8ef99b8bed3442",
   "metadata": {
    "ExecuteTime": {
     "end_time": "2023-11-01T18:03:52.668837300Z",
     "start_time": "2023-11-01T18:03:51.896116800Z"
    },
    "collapsed": false
   },
   "outputs": [
    {
     "name": "stdout",
     "output_type": "stream",
     "text": [
      "\n",
      "Poison test set accuracy: 2.39%\n"
     ]
    },
    {
     "data": {
      "image/png": "[encoded data removed]",
      "text/plain": [
       "<Figure size 640x480 with 1 Axes>"
      ]
     },
     "metadata": {},
     "output_type": "display_data"
    },
    {
     "name": "stdout",
     "output_type": "stream",
     "text": [
      "Prediction: 9\n"
     ]
    }
   ],
   "source": [
    "not_target = np.logical_not(np.all(y_test == targets, axis=1))\n",
    "px_test, py_test = backdoor.poison(x_test[not_target], y_test[not_target])\n",
    "poison_preds = np.argmax(model.predict(px_test), axis=1)\n",
    "poison_correct = np.sum(poison_preds == np.argmax(y_test[not_target], axis=1))\n",
    "\n",
    "poison_total = poison_preds.shape[0]\n",
    "poison_acc = poison_correct / poison_total\n",
    "print(\"\\nPoison test set accuracy: %.2f%%\" % (poison_acc * 100))\n",
    "\n",
    "c = 3  # index to display\n",
    "plt.imshow(px_test[c].squeeze())\n",
    "plt.show()\n",
    "clean_label = c\n",
    "print(\"Prediction: \" + str(poison_preds[c]))"
   ]
  },
  {
   "cell_type": "markdown",
   "id": "5a7a65630456c5bb",
   "metadata": {
    "collapsed": false
   },
   "source": [
    "Как можно видеть, атака успешно исказила данных таким образом, что результаты оказались неверными в большинстве случаев."
   ]
  }
 ],
 "metadata": {
  "kernelspec": {
   "display_name": "Python 3",
   "language": "python",
   "name": "python3"
  },
  "language_info": {
   "codemirror_mode": {
    "name": "ipython",
    "version": 2
   },
   "file_extension": ".py",
   "mimetype": "text/x-python",
   "name": "python",
   "nbconvert_exporter": "python",
   "pygments_lexer": "ipython2",
   "version": "2.7.6"
  }
 },
 "nbformat": 4,
 "nbformat_minor": 5
}
