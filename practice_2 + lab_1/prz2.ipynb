{
 "cells": [
  {
   "cell_type": "code",
   "execution_count": 1,
   "id": "847326d8-2c7d-4845-a723-d0061ebc3387",
   "metadata": {
    "ExecuteTime": {
     "end_time": "2023-10-17T08:16:49.242121Z",
     "start_time": "2023-10-17T08:16:48.894340200Z"
    }
   },
   "outputs": [
    {
     "name": "stdout",
     "output_type": "stream",
     "text": [
      "fatal: destination path 'EEL6812_DeepFool_Project' already exists and is not an empty directory.\n"
     ]
    }
   ],
   "source": [
    "!git clone https://github.com/ewatson2/EEL6812_DeepFool_Project\n",
    "!cd EEL6812_DeepFool_Project"
   ]
  },
  {
   "cell_type": "code",
   "execution_count": 67,
   "id": "091bc987-ef65-4e84-8a2b-e710a2d49c86",
   "metadata": {
    "ExecuteTime": {
     "end_time": "2023-10-17T08:16:50.644042300Z",
     "start_time": "2023-10-17T08:16:49.244120Z"
    }
   },
   "outputs": [
    {
     "name": "stdout",
     "output_type": "stream",
     "text": [
      "Requirement already satisfied: numpy in /opt/conda/lib/python3.11/site-packages (1.26.1)\r\n",
      "Requirement already satisfied: torch in /opt/conda/lib/python3.11/site-packages (2.1.0)\r\n",
      "Requirement already satisfied: torchvision in /opt/conda/lib/python3.11/site-packages (0.16.0)\r\n",
      "Requirement already satisfied: matplotlib in /opt/conda/lib/python3.11/site-packages (3.8.0)\r\n",
      "Requirement already satisfied: pandas in /opt/conda/lib/python3.11/site-packages (2.1.1)\r\n",
      "Requirement already satisfied: filelock in /opt/conda/lib/python3.11/site-packages (from torch) (3.12.4)\r\n",
      "Requirement already satisfied: typing-extensions in /opt/conda/lib/python3.11/site-packages (from torch) (4.8.0)\r\n",
      "Requirement already satisfied: sympy in /opt/conda/lib/python3.11/site-packages (from torch) (1.12)\r\n",
      "Requirement already satisfied: networkx in /opt/conda/lib/python3.11/site-packages (from torch) (3.1)\r\n",
      "Requirement already satisfied: jinja2 in /opt/conda/lib/python3.11/site-packages (from torch) (3.1.2)\r\n",
      "Requirement already satisfied: fsspec in /opt/conda/lib/python3.11/site-packages (from torch) (2023.9.2)\r\n",
      "Requirement already satisfied: nvidia-cuda-nvrtc-cu12==12.1.105 in /opt/conda/lib/python3.11/site-packages (from torch) (12.1.105)\r\n",
      "Requirement already satisfied: nvidia-cuda-runtime-cu12==12.1.105 in /opt/conda/lib/python3.11/site-packages (from torch) (12.1.105)\r\n",
      "Requirement already satisfied: nvidia-cuda-cupti-cu12==12.1.105 in /opt/conda/lib/python3.11/site-packages (from torch) (12.1.105)\r\n",
      "Requirement already satisfied: nvidia-cudnn-cu12==8.9.2.26 in /opt/conda/lib/python3.11/site-packages (from torch) (8.9.2.26)\r\n",
      "Requirement already satisfied: nvidia-cublas-cu12==12.1.3.1 in /opt/conda/lib/python3.11/site-packages (from torch) (12.1.3.1)\r\n",
      "Requirement already satisfied: nvidia-cufft-cu12==11.0.2.54 in /opt/conda/lib/python3.11/site-packages (from torch) (11.0.2.54)\r\n",
      "Requirement already satisfied: nvidia-curand-cu12==10.3.2.106 in /opt/conda/lib/python3.11/site-packages (from torch) (10.3.2.106)\r\n",
      "Requirement already satisfied: nvidia-cusolver-cu12==11.4.5.107 in /opt/conda/lib/python3.11/site-packages (from torch) (11.4.5.107)\r\n",
      "Requirement already satisfied: nvidia-cusparse-cu12==12.1.0.106 in /opt/conda/lib/python3.11/site-packages (from torch) (12.1.0.106)\r\n",
      "Requirement already satisfied: nvidia-nccl-cu12==2.18.1 in /opt/conda/lib/python3.11/site-packages (from torch) (2.18.1)\r\n",
      "Requirement already satisfied: nvidia-nvtx-cu12==12.1.105 in /opt/conda/lib/python3.11/site-packages (from torch) (12.1.105)\r\n",
      "Requirement already satisfied: triton==2.1.0 in /opt/conda/lib/python3.11/site-packages (from torch) (2.1.0)\r\n",
      "Requirement already satisfied: nvidia-nvjitlink-cu12 in /opt/conda/lib/python3.11/site-packages (from nvidia-cusolver-cu12==11.4.5.107->torch) (12.2.140)\r\n",
      "Requirement already satisfied: requests in /opt/conda/lib/python3.11/site-packages (from torchvision) (2.31.0)\r\n",
      "Requirement already satisfied: pillow!=8.3.*,>=5.3.0 in /opt/conda/lib/python3.11/site-packages (from torchvision) (10.1.0)\r\n",
      "Requirement already satisfied: contourpy>=1.0.1 in /opt/conda/lib/python3.11/site-packages (from matplotlib) (1.1.1)\r\n",
      "Requirement already satisfied: cycler>=0.10 in /opt/conda/lib/python3.11/site-packages (from matplotlib) (0.12.1)\r\n",
      "Requirement already satisfied: fonttools>=4.22.0 in /opt/conda/lib/python3.11/site-packages (from matplotlib) (4.43.1)\r\n",
      "Requirement already satisfied: kiwisolver>=1.0.1 in /opt/conda/lib/python3.11/site-packages (from matplotlib) (1.4.5)\r\n",
      "Requirement already satisfied: packaging>=20.0 in /opt/conda/lib/python3.11/site-packages (from matplotlib) (23.2)\r\n",
      "Requirement already satisfied: pyparsing>=2.3.1 in /opt/conda/lib/python3.11/site-packages (from matplotlib) (3.1.1)\r\n",
      "Requirement already satisfied: python-dateutil>=2.7 in /opt/conda/lib/python3.11/site-packages (from matplotlib) (2.8.2)\r\n",
      "Requirement already satisfied: pytz>=2020.1 in /opt/conda/lib/python3.11/site-packages (from pandas) (2023.3.post1)\r\n",
      "Requirement already satisfied: tzdata>=2022.1 in /opt/conda/lib/python3.11/site-packages (from pandas) (2023.3)\r\n",
      "Requirement already satisfied: six>=1.5 in /opt/conda/lib/python3.11/site-packages (from python-dateutil>=2.7->matplotlib) (1.16.0)\r\n",
      "Requirement already satisfied: MarkupSafe>=2.0 in /opt/conda/lib/python3.11/site-packages (from jinja2->torch) (2.1.3)\r\n",
      "Requirement already satisfied: charset-normalizer<4,>=2 in /opt/conda/lib/python3.11/site-packages (from requests->torchvision) (3.3.0)\r\n",
      "Requirement already satisfied: idna<4,>=2.5 in /opt/conda/lib/python3.11/site-packages (from requests->torchvision) (3.4)\r\n",
      "Requirement already satisfied: urllib3<3,>=1.21.1 in /opt/conda/lib/python3.11/site-packages (from requests->torchvision) (2.0.6)\r\n",
      "Requirement already satisfied: certifi>=2017.4.17 in /opt/conda/lib/python3.11/site-packages (from requests->torchvision) (2023.7.22)\r\n",
      "Requirement already satisfied: mpmath>=0.19 in /opt/conda/lib/python3.11/site-packages (from sympy->torch) (1.3.0)\r\n"
     ]
    }
   ],
   "source": [
    "!pip install numpy torch torchvision matplotlib pandas"
   ]
  },
  {
   "cell_type": "code",
   "execution_count": 68,
   "id": "809dc32c-2239-4755-b40c-4087b96552a8",
   "metadata": {
    "ExecuteTime": {
     "end_time": "2023-10-17T08:16:50.651418200Z",
     "start_time": "2023-10-17T08:16:50.646046600Z"
    }
   },
   "outputs": [],
   "source": [
    "import numpy as np\n",
    "import json, torch\n",
    "from torch.utils.data import DataLoader, random_split\n",
    "from torchvision import datasets, models\n",
    "from torchvision.transforms import transforms"
   ]
  },
  {
   "cell_type": "code",
   "execution_count": 69,
   "id": "2b5831d4-83fb-4785-abe3-9222269986aa",
   "metadata": {
    "ExecuteTime": {
     "end_time": "2023-10-17T08:16:50.659926800Z",
     "start_time": "2023-10-17T08:16:50.649419200Z"
    }
   },
   "outputs": [],
   "source": [
    "from models.project_models import FC_500_150, LeNet_CIFAR, LeNet_MNIST, Net\n",
    "from utils.project_utils import get_clip_bounds, evaluate_attack, display_attack"
   ]
  },
  {
   "cell_type": "code",
   "execution_count": 70,
   "id": "c2f1cc2c-6cd6-4202-91b3-cf6e8f25d2d8",
   "metadata": {
    "ExecuteTime": {
     "end_time": "2023-10-17T08:16:50.674564500Z",
     "start_time": "2023-10-17T08:16:50.656929500Z"
    }
   },
   "outputs": [
    {
     "data": {
      "text/plain": [
       "False"
      ]
     },
     "execution_count": 70,
     "metadata": {},
     "output_type": "execute_result"
    }
   ],
   "source": [
    "np.random.seed(4)\n",
    "torch.manual_seed(4)\n",
    "\n",
    "use_device = torch.device('cuda' if torch.cuda.is_available() else 'cpu')\n",
    "torch.cuda.is_available()  # cuda на моем устройстве (Ubuntu WSL) не поддерживается на данный момент "
   ]
  },
  {
   "cell_type": "code",
   "execution_count": 71,
   "id": "b0af3bd7-5574-44e8-a935-2014b4f936c9",
   "metadata": {
    "ExecuteTime": {
     "end_time": "2023-10-17T08:16:50.674564500Z",
     "start_time": "2023-10-17T08:16:50.664927300Z"
    }
   },
   "outputs": [],
   "source": [
    "mnist_mean, mnist_std, mnist_dim = 0.5, 0.5, 28\n",
    "\n",
    "mnist_min, mnist_max = get_clip_bounds(mnist_mean, mnist_std, mnist_dim)\n",
    "\n",
    "mnist_min = mnist_min.to(use_device)\n",
    "mnist_max = mnist_max.to(use_device)"
   ]
  },
  {
   "cell_type": "code",
   "execution_count": 72,
   "id": "72f2df8cb46091de",
   "metadata": {
    "ExecuteTime": {
     "end_time": "2023-10-17T08:16:50.721107Z",
     "start_time": "2023-10-17T08:16:50.671863900Z"
    },
    "collapsed": false,
    "jupyter": {
     "outputs_hidden": false
    }
   },
   "outputs": [],
   "source": [
    "mnist_tf = transforms.Compose([\n",
    "    transforms.ToTensor(),\n",
    "    transforms.Normalize(\n",
    "        mean=mnist_mean,\n",
    "        std=mnist_std)])\n",
    "\n",
    "mnist_tf_train = transforms.Compose([\n",
    "    transforms.RandomHorizontalFlip(),\n",
    "    transforms.ToTensor(),\n",
    "    transforms.Normalize(\n",
    "        mean=mnist_mean,\n",
    "        std=mnist_std)])\n",
    "\n",
    "mnist_tf_inv = transforms.Compose([\n",
    "    transforms.Normalize(\n",
    "        mean=0.0,\n",
    "        std=np.divide(1.0, mnist_std)),\n",
    "    transforms.Normalize(\n",
    "        mean=np.multiply(-1.0, mnist_std),\n",
    "        std=1.0)])\n",
    "\n",
    "mnist_temp = datasets.MNIST(root='datasets/mnist', train=True, download=True, transform=mnist_tf_train)\n",
    "mnist_train, mnist_val = random_split(mnist_temp, [50000, 10000])\n",
    "\n",
    "mnist_test = datasets.MNIST(root='datasets/mnist', train=False, download=True, transform=mnist_tf)"
   ]
  },
  {
   "cell_type": "code",
   "execution_count": 73,
   "id": "db578ba11c69d00",
   "metadata": {
    "ExecuteTime": {
     "end_time": "2023-10-17T08:16:51.557344900Z",
     "start_time": "2023-10-17T08:16:50.704745200Z"
    },
    "collapsed": false,
    "jupyter": {
     "outputs_hidden": false
    }
   },
   "outputs": [
    {
     "name": "stdout",
     "output_type": "stream",
     "text": [
      "Files already downloaded and verified\n",
      "Files already downloaded and verified\n"
     ]
    }
   ],
   "source": [
    "cifar_mean = [0.491, 0.482, 0.447]\n",
    "cifar_std = [0.202, 0.199, 0.201]\n",
    "cifar_dim = 32\n",
    "\n",
    "cifar_min, cifar_max = get_clip_bounds(cifar_mean, cifar_std, cifar_dim)\n",
    "cifar_min = cifar_min.to(use_device)\n",
    "cifar_max = cifar_max.to(use_device)\n",
    "\n",
    "cifar_tf = transforms.Compose([\n",
    "    transforms.ToTensor(),\n",
    "    transforms.Normalize(\n",
    "        mean=cifar_mean,\n",
    "        std=cifar_std)])\n",
    "\n",
    "cifar_tf_train = transforms.Compose([\n",
    "    transforms.RandomCrop(\n",
    "        size=cifar_dim,\n",
    "        padding=4),\n",
    "    transforms.RandomHorizontalFlip(),\n",
    "    transforms.ToTensor(),\n",
    "    transforms.Normalize(\n",
    "        mean=cifar_mean,\n",
    "        std=cifar_std)])\n",
    "\n",
    "cifar_tf_inv = transforms.Compose([\n",
    "    transforms.Normalize(\n",
    "        mean=[0.0, 0.0, 0.0],\n",
    "        std=np.divide(1.0, cifar_std)),\n",
    "    transforms.Normalize(\n",
    "        mean=np.multiply(-1.0, cifar_mean),\n",
    "        std=[1.0, 1.0, 1.0])])\n",
    "\n",
    "cifar_temp = datasets.CIFAR10(root='datasets/cifar-10', train=True, download=True, transform=cifar_tf_train)\n",
    "cifar_train, cifar_val = random_split(cifar_temp, [40000, 10000])\n",
    "\n",
    "cifar_test = datasets.CIFAR10(root='datasets/cifar-10', train=False, download=True, transform=cifar_tf)"
   ]
  },
  {
   "cell_type": "code",
   "execution_count": 74,
   "id": "9055d86a7f966108",
   "metadata": {
    "ExecuteTime": {
     "end_time": "2023-10-17T08:16:51.557344900Z",
     "start_time": "2023-10-17T08:16:51.553830800Z"
    },
    "collapsed": false,
    "jupyter": {
     "outputs_hidden": false
    }
   },
   "outputs": [],
   "source": [
    "# настройки\n",
    "cifar_classes = ['airplane', 'automobile', 'bird', 'cat', 'deer', 'dog', 'frog', 'horse', 'ship', 'truck']\n",
    "\n",
    "batch_size = 64\n",
    "workers = 8\n",
    "fgsm_eps = 0.6\n",
    "\n",
    "deep_args = [5, len(cifar_classes), 0.05, 50]"
   ]
  },
  {
   "cell_type": "code",
   "execution_count": 75,
   "id": "ae3c00dd3d04ad70",
   "metadata": {
    "ExecuteTime": {
     "end_time": "2023-10-17T08:16:51.568941100Z",
     "start_time": "2023-10-17T08:16:51.558343500Z"
    },
    "collapsed": false,
    "jupyter": {
     "outputs_hidden": false
    }
   },
   "outputs": [],
   "source": [
    "mnist_loader_train = DataLoader(mnist_train, batch_size=batch_size, shuffle=True, num_workers=workers)\n",
    "mnist_loader_val = DataLoader(mnist_val, batch_size=batch_size, shuffle=False, num_workers=workers)\n",
    "mnist_loader_test = DataLoader(mnist_test, batch_size=batch_size, shuffle=False, num_workers=workers)\n",
    "cifar_loader_train = DataLoader(cifar_train, batch_size=batch_size, shuffle=True, num_workers=workers)\n",
    "cifar_loader_val = DataLoader(cifar_val, batch_size=batch_size, shuffle=False, num_workers=workers)\n",
    "cifar_loader_test = DataLoader(cifar_test, batch_size=batch_size, shuffle=False, num_workers=workers)"
   ]
  },
  {
   "cell_type": "code",
   "execution_count": 76,
   "id": "b3fcb69cc0b625c4",
   "metadata": {
    "ExecuteTime": {
     "end_time": "2023-10-17T08:16:51.593008500Z",
     "start_time": "2023-10-17T08:16:51.567850200Z"
    },
    "collapsed": false,
    "jupyter": {
     "outputs_hidden": false
    }
   },
   "outputs": [
    {
     "name": "stdout",
     "output_type": "stream",
     "text": [
      "FGSM Test Error : 87.89%\n",
      "FGSM Robustness : 4.58e-01\n",
      "FGSM Time (All Images) : 0.29 s\n",
      "FGSM Time (Per Image) : 28.86 us\n",
      "--------------------------------------------------\n",
      "DeepFool Test Error : 98.74%\n",
      "DeepFool Robustness : 9.64e-02\n",
      "DeepFool Time (All Images) : 193.32 s\n",
      "DeepFool Time (Per Image) : 19.33 ms\n"
     ]
    }
   ],
   "source": [
    "model = LeNet_MNIST().to(use_device)\n",
    "\n",
    "model.load_state_dict(torch.load('weights/clean/mnist_lenet.pth', map_location=use_device))\n",
    "\n",
    "evaluate_attack('mnist_lenet_fgsm.csv', 'results', use_device, model, mnist_loader_test, mnist_min, mnist_max, fgsm_eps, is_fgsm=True) \n",
    "\n",
    "print('--------------------------------------------------') \n",
    "\n",
    "evaluate_attack('mnist_lenet_deepfool.csv', 'results', use_device, model, mnist_loader_test, mnist_min, mnist_max, deep_args, is_fgsm=False)\n",
    "\n",
    "# if use_device.type == 'cuda': torch.cuda.empty_cache()"
   ]
  },
  {
   "cell_type": "code",
   "execution_count": 77,
   "id": "b4d3ecd6a00b0890",
   "metadata": {
    "ExecuteTime": {
     "end_time": "2023-10-17T08:16:51.626473500Z",
     "start_time": "2023-10-17T08:16:51.584475300Z"
    },
    "collapsed": false,
    "jupyter": {
     "outputs_hidden": false
    }
   },
   "outputs": [
    {
     "name": "stdout",
     "output_type": "stream",
     "text": [
      "FGSM Test Error : 87.08%\n",
      "FGSM Robustness : 1.56e-01\n",
      "FGSM Time (All Images) : 0.15 s\n",
      "FGSM Time (Per Image) : 14.99 us\n",
      "--------------------------------------------------\n",
      "DeepFool Test Error : 97.92%\n",
      "DeepFool Robustness : 6.78e-02\n",
      "DeepFool Time (All Images) : 141.81 s\n",
      "DeepFool Time (Per Image) : 14.18 ms\n"
     ]
    }
   ],
   "source": [
    "fgsm_eps = 0.2\n",
    "\n",
    "model = FC_500_150().to(use_device)\n",
    "model.load_state_dict(torch.load('weights/clean/mnist_fc.pth', map_location=use_device))\n",
    "\n",
    "evaluate_attack('mnist_fc_fgsm.csv', 'results', use_device, model, mnist_loader_test, mnist_min, mnist_max, fgsm_eps, is_fgsm=True)\n",
    "\n",
    "print('--------------------------------------------------')\n",
    "\n",
    "evaluate_attack('mnist_fc_deepfool.csv', 'results', use_device, model, mnist_loader_test, mnist_min, mnist_max, deep_args, is_fgsm=False)"
   ]
  }
 ],
 "metadata": {
  "kernelspec": {
   "display_name": "Python 3 (ipykernel)",
   "language": "python",
   "name": "python3"
  },
  "language_info": {
   "codemirror_mode": {
    "name": "ipython",
    "version": 3
   },
   "file_extension": ".py",
   "mimetype": "text/x-python",
   "name": "python",
   "nbconvert_exporter": "python",
   "pygments_lexer": "ipython3",
   "version": "3.11.6"
  }
 },
 "nbformat": 4,
 "nbformat_minor": 5
}
